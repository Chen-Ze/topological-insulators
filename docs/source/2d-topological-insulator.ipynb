{
 "cells": [
  {
   "cell_type": "markdown",
   "id": "8da30399",
   "metadata": {},
   "source": [
    "# Kane-Mele Model: 2D TI\n",
    "\n",
    "See [this post](https://chaoli.club/index.php/4485/0) for reference.\n",
    "\n",
    "Hamiltonian given by\n",
    "\n",
    "$$\n",
    "H = -t_{\\mathrm{n}} \\sum_{<i\\alpha,j\\beta>} \\left(c^\\dagger_{i\\alpha} c_{j\\beta} + \\mathrm{h.c.}\\right)\n",
    "+ it_{\\mathrm{so}} \\sum_{<<i\\alpha,j\\beta>>} v_{ij} (S^z)_{\\alpha\\beta} c^\\dagger_{i\\alpha} c_{j\\beta},\n",
    "$$\n",
    "\n",
    "where $v_{ij} = +1$ if $i\\rightarrow j$ is counterclockwise and $-1$ otherwise.\n"
   ]
  },
  {
   "cell_type": "markdown",
   "id": "e348c879",
   "metadata": {},
   "source": [
    "Imposing zig-zag boundary in the following."
   ]
  },
  {
   "cell_type": "code",
   "execution_count": 1,
   "id": "93a2be1b",
   "metadata": {},
   "outputs": [],
   "source": [
    "import numpy as np\n",
    "import matplotlib.pyplot as plt\n",
    "\n",
    "\n",
    "def hamiltonian(k, t_n, t_so, row_count, a):\n",
    "    h0 = hamiltonian_s(k, 0, t_n, t_so, row_count, a)\n",
    "    h1 = hamiltonian_s(k, 1, t_n, t_so, row_count, a)\n",
    "    zero_fill = np.zeros(h0.shape)\n",
    "    return np.block([[h0, zero_fill], [zero_fill, h1]])\n",
    "\n",
    "# hamiltonian of a fixed spin\n",
    "def hamiltonian_s(k, s, t_n, t_so, row_count, a):\n",
    "    iak    = a * k * 1j\n",
    "    sign_s = (-1) ** s\n",
    "    it_so  = t_so * 1j\n",
    "\n",
    "    atom_a     = 0\n",
    "    atom_b     = 1\n",
    "    atom_count = 2\n",
    "\n",
    "    h = np.zeros((row_count, atom_count, row_count, atom_count), dtype=complex)\n",
    "\n",
    "    h[0,             atom_a, 0,             atom_b] += t_n\n",
    "    h[0,             atom_a, 0,             atom_b] += t_n * np.exp(-iak)\n",
    "    h[row_count - 1, atom_a, row_count - 2, atom_a] += it_so * sign_s * np.exp(iak)\n",
    "    h[row_count - 1, atom_a, row_count - 1, atom_a] += it_so * sign_s * np.exp(-iak)\n",
    "    h[row_count - 1, atom_b, row_count - 1, atom_b] += it_so * sign_s * np.exp(iak)\n",
    "    h[row_count - 1, atom_b, row_count - 2, atom_b] += it_so * sign_s\n",
    "    h[0,             atom_a, 1,             atom_a] += it_so * sign_s\n",
    "    h[0,             atom_a, 0,             atom_a] += it_so * sign_s * np.exp(-iak)\n",
    "    h[0,             atom_b, 0,             atom_b] += it_so * sign_s * np.exp(iak)\n",
    "    h[0,             atom_b, 1,             atom_b] += it_so * sign_s * np.exp(-iak)\n",
    "\n",
    "    for i in range(1, row_count):\n",
    "        h[i, atom_a, i,     atom_b] += t_n\n",
    "        h[i, atom_a, i - 1, atom_b] += t_n\n",
    "        h[i, atom_a, i,     atom_b] += t_n * np.exp(-iak)\n",
    "\n",
    "    for i in range(1, row_count - 1):\n",
    "        h[i, atom_a, i + 1, atom_a] += it_so * sign_s\n",
    "        h[i, atom_a, i,     atom_a] += it_so * sign_s * np.exp(-iak)\n",
    "        h[i, atom_a, i - 1, atom_a] += it_so * sign_s * np.exp(iak)\n",
    "        h[i, atom_b, i - 1, atom_b] += it_so * sign_s\n",
    "        h[i, atom_b, i,     atom_b] += it_so * sign_s * np.exp(iak)\n",
    "        h[i, atom_b, i + 1, atom_b] += it_so * sign_s * np.exp(-iak)\n",
    "\n",
    "    h = h.reshape(row_count * atom_count, row_count * atom_count)\n",
    "    return h + h.conj().T\n",
    "\n",
    "def band_structure(h_k, k_min, k_max, points):\n",
    "    ks = np.linspace(k_min, k_max, points)\n",
    "    eigenvalues = list(map(lambda k: np.linalg.eigvalsh(h_k(k)), ks))\n",
    "    return ks, np.array(eigenvalues)\n",
    "\n",
    "def plot_band_structure(ks, bands):\n",
    "    bands_count = len(bands[0])\n",
    "    for i in range(bands_count):\n",
    "        plt.plot(ks, bands[:, i])\n",
    "    plt.ylim([-1, 1])\n",
    "    plt.show()\n",
    "\n",
    "def plot(t_so):\n",
    "    a         = 1\n",
    "    t_n       = 1\n",
    "    s         = 0\n",
    "    row_count = 32\n",
    "\n",
    "    # show band of a single spin only\n",
    "    # h_k       = lambda k: hamiltonian_s(k, s, t_n, t_so, row_count, a)\n",
    "    # plot_band_structure(*band_structure(h_k, 0, 2 * np.pi, 500))\n",
    "\n",
    "    h_k_sum   = lambda k: hamiltonian(k, t_n, t_so, row_count, a)\n",
    "    plot_band_structure(*band_structure(h_k_sum, 0, 2 * np.pi, 500))"
   ]
  },
  {
   "cell_type": "code",
   "execution_count": 2,
   "id": "bbfd8b23",
   "metadata": {},
   "outputs": [],
   "source": [
    "from ipywidgets import interact, interactive, fixed, interact_manual\n",
    "import ipywidgets as widgets"
   ]
  },
  {
   "cell_type": "markdown",
   "id": "a5a55c33",
   "metadata": {},
   "source": [
    "Drag the slider to see how the gap varies with $t_{\\mathrm{so}}$. Note that the gap closes as $t_{\\mathrm{so}}\\rightarrow 0$."
   ]
  },
  {
   "cell_type": "code",
   "execution_count": 3,
   "id": "8c7feeb6",
   "metadata": {},
   "outputs": [
    {
     "data": {
      "application/vnd.jupyter.widget-view+json": {
       "model_id": "f23275bc06cf4e7aae99527bcc6bd0c0",
       "version_major": 2,
       "version_minor": 0
      },
      "text/plain": [
       "interactive(children=(FloatSlider(value=0.04, description='t_so', max=0.1, step=0.01), Output()), _dom_classes…"
      ]
     },
     "metadata": {},
     "output_type": "display_data"
    }
   ],
   "source": [
    "interact(plot, t_so=widgets.FloatSlider(\n",
    "    value=0.04,\n",
    "    min=0,\n",
    "    max=0.1,\n",
    "    step=0.01)\n",
    ");"
   ]
  },
  {
   "cell_type": "code",
   "execution_count": null,
   "id": "f061e159",
   "metadata": {},
   "outputs": [],
   "source": []
  }
 ],
 "metadata": {
  "kernelspec": {
   "display_name": "Python 3.8.8 64-bit ('base': conda)",
   "language": "python",
   "name": "python388jvsc74a57bd0d811378f1bc00a8aecdac2de1b81bd9a23b5be8e5641ffbb4afadbaf02d15d7b"
  },
  "language_info": {
   "codemirror_mode": {
    "name": "ipython",
    "version": 3
   },
   "file_extension": ".py",
   "mimetype": "text/x-python",
   "name": "python",
   "nbconvert_exporter": "python",
   "pygments_lexer": "ipython3",
   "version": "3.8.8"
  }
 },
 "nbformat": 4,
 "nbformat_minor": 5
}
